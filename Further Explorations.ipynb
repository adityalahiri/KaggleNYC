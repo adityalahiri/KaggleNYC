{
 "cells": [
  {
   "cell_type": "code",
   "execution_count": 41,
   "metadata": {},
   "outputs": [
    {
     "data": {
      "text/plain": [
       "' This notebook has : \\n1. Function to replace values in a column.\\n2. Function to plot the correlation matrix for the dataframe\\n3. Using these functions to : \\n        a. Make store_and_fwd_flag numerical categorical.\\n        b. Plot correlation matrix.\\n        c. Make a pickup_weeked_or_not variable.\\n4. Starts the process of creating higher level categories.'"
      ]
     },
     "execution_count": 41,
     "metadata": {},
     "output_type": "execute_result"
    }
   ],
   "source": [
    "\"\"\" This notebook has : \n",
    "1. Function to replace values in a column.\n",
    "2. Function to plot the correlation matrix for the dataframe\n",
    "3. Using these functions to : \n",
    "        a. Make store_and_fwd_flag numerical categorical.\n",
    "        b. Plot correlation matrix.\n",
    "        c. Make a pickup_weeked_or_not variable.\n",
    "4. Starts the process of creating higher level categories.\"\"\""
   ]
  },
  {
   "cell_type": "code",
   "execution_count": 1,
   "metadata": {
    "collapsed": true
   },
   "outputs": [],
   "source": [
    "# Importing modules\n",
    "\n",
    "import pandas as pd # for data wrangling\n",
    "import seaborn as sns # for plotting\n",
    "import matplotlib.pyplot as plt # for plotting\n",
    "import missingno as msno # for visualizing missing values in data\n",
    "import numpy as np # for array computations\n",
    "\n",
    "plt.style.use('ggplot') # setting style for matplotlib"
   ]
  },
  {
   "cell_type": "code",
   "execution_count": 3,
   "metadata": {
    "collapsed": true
   },
   "outputs": [],
   "source": [
    "# Loading the data\n",
    "\n",
    "train_df = pd.read_csv(\"train_day_date_minutes.gz\", compression = 'gzip')\n",
    "\n",
    "del train_df['Unnamed: 0']"
   ]
  },
  {
   "cell_type": "code",
   "execution_count": 6,
   "metadata": {},
   "outputs": [
    {
     "data": {
      "text/html": [
       "<div>\n",
       "<style>\n",
       "    .dataframe thead tr:only-child th {\n",
       "        text-align: right;\n",
       "    }\n",
       "\n",
       "    .dataframe thead th {\n",
       "        text-align: left;\n",
       "    }\n",
       "\n",
       "    .dataframe tbody tr th {\n",
       "        vertical-align: top;\n",
       "    }\n",
       "</style>\n",
       "<table border=\"1\" class=\"dataframe\">\n",
       "  <thead>\n",
       "    <tr style=\"text-align: right;\">\n",
       "      <th></th>\n",
       "      <th>id</th>\n",
       "      <th>vendor_id</th>\n",
       "      <th>pickup_datetime</th>\n",
       "      <th>dropoff_datetime</th>\n",
       "      <th>passenger_count</th>\n",
       "      <th>pickup_longitude</th>\n",
       "      <th>pickup_latitude</th>\n",
       "      <th>dropoff_longitude</th>\n",
       "      <th>dropoff_latitude</th>\n",
       "      <th>store_and_fwd_flag</th>\n",
       "      <th>trip_duration</th>\n",
       "      <th>pickup_date</th>\n",
       "      <th>pickup_day</th>\n",
       "      <th>dropoff_date</th>\n",
       "      <th>dropoff_day</th>\n",
       "      <th>trip_in_minutes</th>\n",
       "    </tr>\n",
       "  </thead>\n",
       "  <tbody>\n",
       "    <tr>\n",
       "      <th>0</th>\n",
       "      <td>id2875421</td>\n",
       "      <td>2</td>\n",
       "      <td>2016-03-14 17:24:55</td>\n",
       "      <td>2016-03-14 17:32:30</td>\n",
       "      <td>1</td>\n",
       "      <td>-73.982155</td>\n",
       "      <td>40.767937</td>\n",
       "      <td>-73.964630</td>\n",
       "      <td>40.765602</td>\n",
       "      <td>N</td>\n",
       "      <td>455</td>\n",
       "      <td>2016-03-14</td>\n",
       "      <td>Monday</td>\n",
       "      <td>2016-03-14</td>\n",
       "      <td>Monday</td>\n",
       "      <td>7</td>\n",
       "    </tr>\n",
       "    <tr>\n",
       "      <th>1</th>\n",
       "      <td>id2377394</td>\n",
       "      <td>1</td>\n",
       "      <td>2016-06-12 00:43:35</td>\n",
       "      <td>2016-06-12 00:54:38</td>\n",
       "      <td>1</td>\n",
       "      <td>-73.980415</td>\n",
       "      <td>40.738564</td>\n",
       "      <td>-73.999481</td>\n",
       "      <td>40.731152</td>\n",
       "      <td>N</td>\n",
       "      <td>663</td>\n",
       "      <td>2016-06-12</td>\n",
       "      <td>Sunday</td>\n",
       "      <td>2016-06-12</td>\n",
       "      <td>Sunday</td>\n",
       "      <td>11</td>\n",
       "    </tr>\n",
       "    <tr>\n",
       "      <th>2</th>\n",
       "      <td>id3858529</td>\n",
       "      <td>2</td>\n",
       "      <td>2016-01-19 11:35:24</td>\n",
       "      <td>2016-01-19 12:10:48</td>\n",
       "      <td>1</td>\n",
       "      <td>-73.979027</td>\n",
       "      <td>40.763939</td>\n",
       "      <td>-74.005333</td>\n",
       "      <td>40.710087</td>\n",
       "      <td>N</td>\n",
       "      <td>2124</td>\n",
       "      <td>2016-01-19</td>\n",
       "      <td>Tuesday</td>\n",
       "      <td>2016-01-19</td>\n",
       "      <td>Tuesday</td>\n",
       "      <td>35</td>\n",
       "    </tr>\n",
       "    <tr>\n",
       "      <th>3</th>\n",
       "      <td>id3504673</td>\n",
       "      <td>2</td>\n",
       "      <td>2016-04-06 19:32:31</td>\n",
       "      <td>2016-04-06 19:39:40</td>\n",
       "      <td>1</td>\n",
       "      <td>-74.010040</td>\n",
       "      <td>40.719971</td>\n",
       "      <td>-74.012268</td>\n",
       "      <td>40.706718</td>\n",
       "      <td>N</td>\n",
       "      <td>429</td>\n",
       "      <td>2016-04-06</td>\n",
       "      <td>Wednesday</td>\n",
       "      <td>2016-04-06</td>\n",
       "      <td>Wednesday</td>\n",
       "      <td>7</td>\n",
       "    </tr>\n",
       "    <tr>\n",
       "      <th>4</th>\n",
       "      <td>id2181028</td>\n",
       "      <td>2</td>\n",
       "      <td>2016-03-26 13:30:55</td>\n",
       "      <td>2016-03-26 13:38:10</td>\n",
       "      <td>1</td>\n",
       "      <td>-73.973053</td>\n",
       "      <td>40.793209</td>\n",
       "      <td>-73.972923</td>\n",
       "      <td>40.782520</td>\n",
       "      <td>N</td>\n",
       "      <td>435</td>\n",
       "      <td>2016-03-26</td>\n",
       "      <td>Saturday</td>\n",
       "      <td>2016-03-26</td>\n",
       "      <td>Saturday</td>\n",
       "      <td>7</td>\n",
       "    </tr>\n",
       "  </tbody>\n",
       "</table>\n",
       "</div>"
      ],
      "text/plain": [
       "          id  vendor_id      pickup_datetime     dropoff_datetime  \\\n",
       "0  id2875421          2  2016-03-14 17:24:55  2016-03-14 17:32:30   \n",
       "1  id2377394          1  2016-06-12 00:43:35  2016-06-12 00:54:38   \n",
       "2  id3858529          2  2016-01-19 11:35:24  2016-01-19 12:10:48   \n",
       "3  id3504673          2  2016-04-06 19:32:31  2016-04-06 19:39:40   \n",
       "4  id2181028          2  2016-03-26 13:30:55  2016-03-26 13:38:10   \n",
       "\n",
       "   passenger_count  pickup_longitude  pickup_latitude  dropoff_longitude  \\\n",
       "0                1        -73.982155        40.767937         -73.964630   \n",
       "1                1        -73.980415        40.738564         -73.999481   \n",
       "2                1        -73.979027        40.763939         -74.005333   \n",
       "3                1        -74.010040        40.719971         -74.012268   \n",
       "4                1        -73.973053        40.793209         -73.972923   \n",
       "\n",
       "   dropoff_latitude store_and_fwd_flag  trip_duration pickup_date pickup_day  \\\n",
       "0         40.765602                  N            455  2016-03-14     Monday   \n",
       "1         40.731152                  N            663  2016-06-12     Sunday   \n",
       "2         40.710087                  N           2124  2016-01-19    Tuesday   \n",
       "3         40.706718                  N            429  2016-04-06  Wednesday   \n",
       "4         40.782520                  N            435  2016-03-26   Saturday   \n",
       "\n",
       "  dropoff_date dropoff_day  trip_in_minutes  \n",
       "0   2016-03-14      Monday                7  \n",
       "1   2016-06-12      Sunday               11  \n",
       "2   2016-01-19     Tuesday               35  \n",
       "3   2016-04-06   Wednesday                7  \n",
       "4   2016-03-26    Saturday                7  "
      ]
     },
     "execution_count": 6,
     "metadata": {},
     "output_type": "execute_result"
    }
   ],
   "source": [
    "# First few data points\n",
    "\n",
    "train_df.head()"
   ]
  },
  {
   "cell_type": "code",
   "execution_count": 37,
   "metadata": {},
   "outputs": [],
   "source": [
    "'''This function takes in a dataframe and plots the correlation matrix between each of it's \n",
    "columns'''\n",
    "\n",
    "def plot_correlation_matrix(dataframe):\n",
    "\n",
    "    fig, ax = plt.subplots(figsize=(10,10)) \n",
    "    \n",
    "    correlation_matrix = dataframe.corr()\n",
    "\n",
    "    sns.heatmap(corr, \n",
    "            xticklabels=correlation_matrix.columns.tolist(),\n",
    "            yticklabels=correlation_matrix.columns.tolist(),\n",
    "            ax = ax)\n",
    "\n",
    "    plt.show()"
   ]
  },
  {
   "cell_type": "code",
   "execution_count": 22,
   "metadata": {
    "collapsed": true
   },
   "outputs": [],
   "source": [
    "'''This function takes in a \"dataframe\" and a \"column_name\" in which it has to replace\n",
    "values. It takes an \"original\" value and replaces it by the value of the \"replacement\".'''\n",
    "\n",
    "def replace_column_values(dataframe, column_name, original, replacement):\n",
    "    dataframe.replace({column_name:{original : replacement}}, inplace = True)"
   ]
  },
  {
   "cell_type": "code",
   "execution_count": 25,
   "metadata": {},
   "outputs": [],
   "source": [
    "# Converting the store_and_fwd_flag to a numerical categorical variable by encoding Y:1,N:0.\n",
    "\n",
    "replace_column_values(train_df, 'store_and_fwd_flag','Y', 1)\n",
    "replace_column_values(train_df, 'store_and_fwd_flag','N', 0)"
   ]
  },
  {
   "cell_type": "code",
   "execution_count": 38,
   "metadata": {},
   "outputs": [
    {
     "data": {
      "image/png": "[encoded data removed]",
      "text/plain": [
       "<matplotlib.figure.Figure at 0x7f68b1df8860>"
      ]
     },
     "metadata": {},
     "output_type": "display_data"
    }
   ],
   "source": [
    "# Calling the plot_correlation_matrix function on the training dataset\n",
    "\n",
    "plot_correlation_matrix(train_df)"
   ]
  },
  {
   "cell_type": "code",
   "execution_count": 27,
   "metadata": {},
   "outputs": [
    {
     "data": {
      "text/plain": [
       "'1. dropoff_longitude is closely positively related to the pickup_logitude. Indicates\\nthat trip distances are usually the same amount.\\n2. dropoff_latitude is also closely, though less, postivelt related to the dropoff_longitude.\\n3. store_and_fwd_flag is extremely positively correlated with te dropoff_latitude. Perhaps\\nimplies that the higher vendor code vendor operates at higher latitudes primarily. Can\\nwe find out their exact loations of working?'"
      ]
     },
     "execution_count": 27,
     "metadata": {},
     "output_type": "execute_result"
    }
   ],
   "source": [
    "# Observations from the correlation matrix\n",
    "'''1. dropoff_longitude is closely positively related to the pickup_logitude. Indicates\n",
    "that trip distances are usually the same amount.\n",
    "2. dropoff_latitude is also closely, though less, postivelt related to the dropoff_longitude.\n",
    "3. store_and_fwd_flag is extremely positively correlated with te dropoff_latitude. Perhaps\n",
    "implies that the higher vendor code vendor operates at higher latitudes primarily. Can\n",
    "we find out their exact loations of working?'''"
   ]
  },
  {
   "cell_type": "code",
   "execution_count": 28,
   "metadata": {
    "collapsed": true
   },
   "outputs": [],
   "source": [
    "# Creating Higher Level Categories\n",
    "# 1. Creating Weekends and Weekdays\n",
    "# Encoding - Saturday : 1 Sunday : 1 . All others : 0\n",
    "\n",
    "train_df['pickup_weekend_or_not'] = train_df['pickup_day']\n",
    "replace_column_values(train_df, 'pickup_weekend_or_not','Saturday', 1)\n",
    "replace_column_values(train_df, 'pickup_weekend_or_not','Sunday', 1)\n",
    "replace_column_values(train_df, 'pickup_weekend_or_not','Monday', 0)\n",
    "replace_column_values(train_df, 'pickup_weekend_or_not','Tuesday', 0)\n",
    "replace_column_values(train_df, 'pickup_weekend_or_not','Wednesday', 0)\n",
    "replace_column_values(train_df, 'pickup_weekend_or_not','Thursday', 0)\n",
    "replace_column_values(train_df, 'pickup_weekend_or_not','Friday', 0)\n"
   ]
  },
  {
   "cell_type": "code",
   "execution_count": null,
   "metadata": {
    "collapsed": true
   },
   "outputs": [],
   "source": [
    "'''Issues.\n",
    "1. Heatmap does not show pickup_weeekend_or_not variable in x axis.\n",
    "2. Read up on how much of correlation is statistically significant.\n",
    "3. Make a github repo and upload notebooks.'''"
   ]
  }
 ],
 "metadata": {
  "kernelspec": {
   "display_name": "Python 3",
   "language": "python",
   "name": "python3"
  },
  "language_info": {
   "codemirror_mode": {
    "name": "ipython",
    "version": 3
   },
   "file_extension": ".py",
   "mimetype": "text/x-python",
   "name": "python",
   "nbconvert_exporter": "python",
   "pygments_lexer": "ipython3",
   "version": "3.6.1"
  }
 },
 "nbformat": 4,
 "nbformat_minor": 2
}
